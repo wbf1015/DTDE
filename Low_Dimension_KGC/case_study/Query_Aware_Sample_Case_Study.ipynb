{
 "cells": [
  {
   "cell_type": "code",
   "execution_count": 1,
   "metadata": {},
   "outputs": [
    {
     "name": "stderr",
     "output_type": "stream",
     "text": [
      "/usr/local/lib/python3.8/dist-packages/tqdm/auto.py:21: TqdmWarning: IProgress not found. Please update jupyter and ipywidgets. See https://ipywidgets.readthedocs.io/en/stable/user_install.html\n",
      "  from .autonotebook import tqdm as notebook_tqdm\n"
     ]
    }
   ],
   "source": [
    "import numpy as np\n",
    "import torch\n",
    "import sys\n",
    "import os\n",
    "\n",
    "data_path = '/root/Low_Dimension_KGC/data/FB15k-237'\n",
    "train_data_path = data_path + '/train'\n",
    "\n",
    "triples = []\n",
    "query_dict = {}\n",
    "rt_dict = {}\n",
    "\n",
    "entity_num = 14541\n",
    "relation_num = 237\n",
    "\n",
    "with open(train_data_path) as fin:\n",
    "    for line in fin:\n",
    "        h, r, t = line.strip().split('\\t')\n",
    "        h, r, t = int(h), int(r), int(t)\n",
    "        triples.append((h, r, t))\n",
    "        triples.append((t, r+relation_num, h))\n",
    "        \n",
    "        if r not in rt_dict:\n",
    "            rt_dict[r] = []\n",
    "        rt_dict[r].append(t)\n",
    "        \n",
    "        if (r+relation_num) not in rt_dict:\n",
    "            rt_dict[r+relation_num] = []\n",
    "        rt_dict[r+relation_num].append(h)\n",
    "        \n",
    "        if (h, r) not in query_dict:\n",
    "            query_dict[(h, r)] = []\n",
    "        query_dict[(h, r)].append(t)\n",
    "        \n",
    "        if (t, r+relation_num) not in query_dict:\n",
    "            query_dict[(t, r+relation_num)] = []\n",
    "        query_dict[(t, r+relation_num)].append(h)"
   ]
  },
  {
   "cell_type": "code",
   "execution_count": 3,
   "metadata": {},
   "outputs": [],
   "source": [
    "def parse_qtdict(file_path):\n",
    "    \"\"\"\n",
    "    读取本地txt文件，并将数据转换为字典格式。\n",
    "    \n",
    "    参数：\n",
    "        file_path (str): txt文件路径。\n",
    "        \n",
    "    返回：\n",
    "        dict: 存储数据的字典，格式为：\n",
    "              {(head, relation): {\"PT1_id\": [entity_id列表], \"PT2_id\": [entity_id列表]}}\n",
    "    \"\"\"\n",
    "    data_dict = {}\n",
    "    \n",
    "    with open(file_path, 'r') as file:\n",
    "        lines = file.readlines()\n",
    "        \n",
    "        # 每组数据有三行，循环处理\n",
    "        for i in range(0, len(lines), 3):\n",
    "            # 解析第一行\n",
    "            head_relation = lines[i].strip().split(\"\\t\")\n",
    "            head, relation = int(head_relation[0]), int(head_relation[1])\n",
    "            \n",
    "            # 解析第二行\n",
    "            pt1_ids = list(map(int, lines[i + 1].strip().split(\"\\t\")))\n",
    "            \n",
    "            # 解析第三行\n",
    "            pt2_ids = list(map(int, lines[i + 2].strip().split(\"\\t\")))\n",
    "            \n",
    "            # 构造字典\n",
    "            data_dict[(head, relation)] = {\n",
    "                \"PT1_id\": pt1_ids,\n",
    "                \"PT2_id\": pt2_ids\n",
    "            }\n",
    "    \n",
    "    return data_dict\n",
    "\n",
    "qt_dict = parse_qtdict('/root/Low_Dimension_KGC/data/FB15k-237/qt_dict.txt')\n"
   ]
  },
  {
   "cell_type": "code",
   "execution_count": 6,
   "metadata": {},
   "outputs": [
    {
     "name": "stdout",
     "output_type": "stream",
     "text": [
      "总数: 70000\n",
      "出现在新的 entity_id 列表中的数量: 50710, 占比: 72.44%\n",
      "未出现在新的 entity_id 列表中的数量: 19290, 占比: 27.56%\n"
     ]
    }
   ],
   "source": [
    "import numpy as np\n",
    "\n",
    "# 初始化计数\n",
    "in_new_list_count = 0\n",
    "not_in_new_list_count = 0\n",
    "total_count = 0\n",
    "\n",
    "time_count=0\n",
    "\n",
    "# 遍历 query_dict\n",
    "for (head, relation), entity_id_data in qt_dict.items():\n",
    "    # 从 rt_dict 获取 list1\n",
    "    list1 = rt_dict.get(relation, [])\n",
    "    \n",
    "    # 从 query_dict 获取 list2\n",
    "    list2 = query_dict.get((head,relation), [])\n",
    "    \n",
    "    # 将 list1 和 list2 转为 numpy 数组\n",
    "    list1_np = np.array(list1, dtype=np.int32)\n",
    "    list2_np = np.array(list2, dtype=np.int32)\n",
    "    \n",
    "    # 计算新的 entity_id 列表（list1 去除 list2）\n",
    "    new_entity_list = np.setdiff1d(list1_np, list2_np, assume_unique=True)\n",
    "    \n",
    "    # 使用 numpy 判断 list2 中的元素是否在 new_entity_list 中\n",
    "    qt_sample_entity = entity_id_data['PT2_id'][:50]\n",
    "    is_in_new_list = np.isin(qt_sample_entity, new_entity_list)\n",
    "    \n",
    "    # 更新统计\n",
    "    in_new_list_count += np.sum(is_in_new_list)\n",
    "    not_in_new_list_count += np.sum(~is_in_new_list)\n",
    "    total_count += len(qt_sample_entity)\n",
    "    \n",
    "    time_count+=1\n",
    "    if time_count >= 1400:\n",
    "        break\n",
    "\n",
    "# 计算占比\n",
    "in_new_list_ratio = (in_new_list_count / total_count) * 100 if total_count > 0 else 0\n",
    "not_in_new_list_ratio = (not_in_new_list_count / total_count) * 100 if total_count > 0 else 0\n",
    "\n",
    "# 输出结果\n",
    "print(f\"总数: {total_count}\")\n",
    "print(f\"出现在新的 entity_id 列表中的数量: {in_new_list_count}, 占比: {in_new_list_ratio:.2f}%\")\n",
    "print(f\"未出现在新的 entity_id 列表中的数量: {not_in_new_list_count}, 占比: {not_in_new_list_ratio:.2f}%\")\n"
   ]
  },
  {
   "cell_type": "code",
   "execution_count": 5,
   "metadata": {},
   "outputs": [
    {
     "name": "stdout",
     "output_type": "stream",
     "text": [
      "27848 34051\n",
      "0.8178320754162873\n"
     ]
    }
   ],
   "source": [
    "import numpy as np\n",
    "import torch\n",
    "import sys\n",
    "import os\n",
    "\n",
    "data_path = '/root/Low_Dimension_KGC/data/FB15k-237'\n",
    "test_data_path = data_path + '/test'\n",
    "\n",
    "appear = 0\n",
    "connect = 0\n",
    "\n",
    "with open(test_data_path) as fin:\n",
    "    for line in fin:\n",
    "        h, r, t = line.strip().split('\\t')\n",
    "        h, r, t = int(h), int(r), int(t)\n",
    "        \n",
    "        if (h,r) in query_dict:\n",
    "            if t in rt_dict[r]:\n",
    "                connect += 1\n",
    "            appear+=1\n",
    "\n",
    "        if(t, r+relation_num) in query_dict:\n",
    "            if h in rt_dict[r+relation_num]:\n",
    "                connect += 1\n",
    "            appear+=1\n",
    "\n",
    "print(connect, appear)\n",
    "print(connect/appear)"
   ]
  }
 ],
 "metadata": {
  "kernelspec": {
   "display_name": "Python 3",
   "language": "python",
   "name": "python3"
  },
  "language_info": {
   "codemirror_mode": {
    "name": "ipython",
    "version": 3
   },
   "file_extension": ".py",
   "mimetype": "text/x-python",
   "name": "python",
   "nbconvert_exporter": "python",
   "pygments_lexer": "ipython3",
   "version": "3.8.10"
  }
 },
 "nbformat": 4,
 "nbformat_minor": 2
}
